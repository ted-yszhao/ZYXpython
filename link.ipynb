{
 "cells": [
  {
   "cell_type": "code",
   "execution_count": 1,
   "metadata": {},
   "outputs": [],
   "source": [
    "class Link:\n",
    "    empty = () # empty tuple \n",
    "    def __init__(self,first , rest=empty):\n",
    "\n",
    "        assert rest is Link.empty or isinstance(rest, Link)\n",
    "\n",
    "        self.first = first \n",
    "        self.rest = rest\n",
    "\n"
   ]
  },
  {
   "cell_type": "code",
   "execution_count": null,
   "metadata": {},
   "outputs": [],
   "source": [
    "l1 = Link(3 , Link(4 , Link(5 , Link.empty)))"
   ]
  },
  {
   "cell_type": "code",
   "execution_count": 2,
   "metadata": {},
   "outputs": [
    {
     "name": "stdout",
     "output_type": "stream",
     "text": [
      "<__main__.Link object at 0x000002AD6EC37DA0>\n"
     ]
    }
   ],
   "source": [
    "def double(s,v):\n",
    "    \"\"\"Insert anoher v after each v in list s\n",
    "\n",
    "    Args:\n",
    "        s (_type_): _description_\n",
    "        v (_type_): _description_\n",
    "\n",
    "    s = [1,2,3,2,1]\n",
    "    double(s,2)\n",
    "    s = [1,2,2,3,2,2,1]\n",
    "    \"\"\"\n",
    "\n",
    "    i = 0 \n",
    "    while i < len(s):\n",
    "        if s[i] == v:\n",
    "            s.insert(i+1,v)\n",
    "            i += 2\n",
    "        else:\n",
    "            i += 1\n",
    "\n",
    "\n",
    "def double_link(s , v):\n",
    "    \"\"\"Insert another v after each v in Link s\n",
    "\n",
    "    Args:\n",
    "        s (_type_): _description_\n",
    "        v (_type_): _description_\n",
    "    \"\"\"\n",
    "\n",
    "    \n",
    "    \n",
    "s = Link(2, Link(7, Link(1, Link(8, Link(2, Link(8)))))) \n",
    "double_link(s, 8) \n",
    "# print(s)\n",
    "    \n",
    "\n",
    "\n",
    "\n"
   ]
  },
  {
   "cell_type": "code",
   "execution_count": 4,
   "metadata": {},
   "outputs": [
    {
     "name": "stdout",
     "output_type": "stream",
     "text": [
      "12000000.0\n",
      "Help on built-in function repr in module builtins:\n",
      "\n",
      "repr(obj, /)\n",
      "    Return the canonical string representation of the object.\n",
      "\n",
      "    For many object types, including most builtins, eval(repr(obj)) == obj.\n",
      "\n"
     ]
    }
   ],
   "source": [
    "a = 12e6 \n",
    "\n",
    "# repr \n",
    "print(repr(a))\n",
    "\n",
    "help(repr)"
   ]
  },
  {
   "cell_type": "code",
   "execution_count": 8,
   "metadata": {},
   "outputs": [
    {
     "name": "stdout",
     "output_type": "stream",
     "text": [
      "datetime.date(2025, 1, 15)\n",
      "2025-01-15\n",
      "datetime.date(2025, 1, 15)\n",
      "2025-01-15\n"
     ]
    }
   ],
   "source": [
    "from datetime import date\n",
    "\n",
    "today = date(2025,1,15)\n",
    "\n",
    "\n",
    "print(repr(today))\n",
    "\n",
    "print(str(today))\n",
    "\n",
    "\n",
    "print(today.__repr__())\n",
    "print(today.__str__())"
   ]
  }
 ],
 "metadata": {
  "kernelspec": {
   "display_name": "base",
   "language": "python",
   "name": "python3"
  },
  "language_info": {
   "codemirror_mode": {
    "name": "ipython",
    "version": 3
   },
   "file_extension": ".py",
   "mimetype": "text/x-python",
   "name": "python",
   "nbconvert_exporter": "python",
   "pygments_lexer": "ipython3",
   "version": "3.12.3"
  }
 },
 "nbformat": 4,
 "nbformat_minor": 2
}

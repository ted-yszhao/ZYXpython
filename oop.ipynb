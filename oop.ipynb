{
 "cells": [
  {
   "cell_type": "code",
   "execution_count": 37,
   "metadata": {},
   "outputs": [],
   "source": [
    "class Account:\n",
    "\n",
    "    # class attribute\n",
    "    interest = 0.02\n",
    "\n",
    "    def __init__(self,name): # helper for construction\n",
    "        # special method \n",
    "\n",
    "\n",
    "        # instance attribute\n",
    "        self.balance = 0\n",
    "        self.holder = name\n",
    "\n",
    "    def deposit(self,amount):\n",
    "        assert amount > 0\n",
    "        self.balance += amount\n",
    "\n",
    "    # method \n",
    "    def withdraw(self, amount):\n",
    "        if amount > self.balance:\n",
    "            return 'Insufficient fund.'\n",
    "        else:\n",
    "            self.balance -= amount\n",
    "            return self.balance\n",
    "        \n",
    "    # special function\n",
    "    def __eq__(self, value): # return bool \n",
    "        return isinstance(value,Account) and value.holder == self.holder\n",
    "    \n",
    "    def time_to_retire(self, amount):\n",
    "        \"\"\"Return the number of years until balance would grow to amount.\"\"\"\n",
    "        assert self.balance > 0 and amount > 0 and self.interest > 0\n",
    "        \n",
    "    \n",
    "\n",
    "# Is-a relationship \n",
    "\n",
    "# CheckingAccount is a sub-class of Account\n",
    "# Account is a super class of CheckingAccount\n",
    "\n",
    "# Sup class will inherit all attributes and method from its super \n",
    "class CheckingAccount(Account): \n",
    "    # new attribute \n",
    "    withdraw_charge = 1\n",
    "    \n",
    "\n",
    "    # overriding 覆盖\n",
    "    interest = 0.01\n",
    "\n",
    "    # method overriding\n",
    "    def withdraw(self, amount):\n",
    "        return super().withdraw(amount + self.withdraw_charge)\n",
    "        # return Account.withdraw(self,amount+self.withdraw_charge)\n",
    "        \n",
    "\n",
    "class SavingsAccount(Account):\n",
    "    deposit_charge = 2\n",
    "    def deposit(self, amount):\n",
    "        return super().deposit(amount - self.deposit_charge)\n",
    "        \n",
    "class AsSeenOnTVAccount(CheckingAccount,SavingsAccount):\n",
    "    def __init__(self, name):\n",
    "        self.holder = name\n",
    "        self.balance = 1 # reward for opening account\n",
    "\n",
    "    \n",
    "\n",
    "\n",
    "\n",
    "\n",
    "    \n"
   ]
  },
  {
   "cell_type": "markdown",
   "metadata": {},
   "source": [
    "# Inheritance "
   ]
  },
  {
   "cell_type": "code",
   "execution_count": 41,
   "metadata": {},
   "outputs": [
    {
     "name": "stdout",
     "output_type": "stream",
     "text": [
      "1\n",
      "Derrick\n",
      "99\n",
      "78\n"
     ]
    }
   ],
   "source": [
    "d = AsSeenOnTVAccount('Derrick')\n",
    "print(d.balance)\n",
    "print(d.holder)\n",
    "d.deposit(100)\n",
    "print(d.balance)\n",
    "d.withdraw(20)\n",
    "print(d.balance)"
   ]
  },
  {
   "cell_type": "code",
   "execution_count": 36,
   "metadata": {},
   "outputs": [
    {
     "name": "stdout",
     "output_type": "stream",
     "text": [
      "True\n",
      "True\n",
      "True\n",
      "[('Alice', 100), ('Ben', 100), ('Clair', 100)]\n",
      "[('Alice', 90), ('Ben', 89), ('Clair', 89)]\n"
     ]
    }
   ],
   "source": [
    "a = Account('Alice')\n",
    "b = CheckingAccount('Ben')\n",
    "\n",
    "print(isinstance(a,Account))\n",
    "print(isinstance(b,CheckingAccount))\n",
    "print(isinstance(b,Account))\n",
    "\n",
    "c = CheckingAccount('Clair')\n",
    "\n",
    "accounts = [a,b,c]\n",
    "\n",
    "for acc in accounts:\n",
    "    acc.deposit(100)\n",
    "\n",
    "print([(acc.holder,acc.balance) for acc in accounts])\n",
    "\n",
    "# polymorphism \n",
    "for acc in accounts:\n",
    "    acc.withdraw(10)\n",
    "print([(acc.holder,acc.balance) for acc in accounts])\n"
   ]
  },
  {
   "cell_type": "code",
   "execution_count": 46,
   "metadata": {},
   "outputs": [
    {
     "name": "stdout",
     "output_type": "stream",
     "text": [
      "0 0 0\n",
      "0 2 0\n",
      "1 2 1\n",
      "1 1 1 1\n"
     ]
    }
   ],
   "source": [
    "class A:\n",
    "    x, y = 0, 0\n",
    "    def __init__(self):\n",
    "        return\n",
    "class B(A):\n",
    "    def __init__(self):\n",
    "        return\n",
    "class C(A):\n",
    "    def __init__(self):\n",
    "        return\n",
    "    \n",
    "print(A.x, B.x, C.x)\n",
    "\n",
    "# OVERRIDE \n",
    "B.x = 2\n",
    "\n",
    "print(A.x, B.x, C.x)\n",
    "\n",
    "\n",
    "A.x += 1\n",
    "\n",
    "print(A.x, B.x, C.x)\n",
    "\n",
    "obj = C()\n",
    "obj.y = 1\n",
    "C.y == obj.y\n",
    "\n",
    "\n",
    "A.y = obj.y\n",
    "print(A.y, B.y, C.y, obj.y)\n"
   ]
  }
 ],
 "metadata": {
  "kernelspec": {
   "display_name": "base",
   "language": "python",
   "name": "python3"
  },
  "language_info": {
   "codemirror_mode": {
    "name": "ipython",
    "version": 3
   },
   "file_extension": ".py",
   "mimetype": "text/x-python",
   "name": "python",
   "nbconvert_exporter": "python",
   "pygments_lexer": "ipython3",
   "version": "3.12.3"
  }
 },
 "nbformat": 4,
 "nbformat_minor": 2
}

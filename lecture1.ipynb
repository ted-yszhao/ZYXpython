{
 "cells": [
  {
   "cell_type": "code",
   "execution_count": 3,
   "metadata": {},
   "outputs": [
    {
     "name": "stdout",
     "output_type": "stream",
     "text": [
      "5050\n"
     ]
    }
   ],
   "source": [
    "def sum_naturals(n):\n",
    "    total ,  k = 0 , 1\n",
    "    while k <= n:\n",
    "        total , k = total + k , k + 1\n",
    "    return total\n",
    "\n",
    "\n",
    "print(sum_naturals(100))\n"
   ]
  },
  {
   "cell_type": "code",
   "execution_count": null,
   "metadata": {},
   "outputs": [],
   "source": [
    "# higher order function \n",
    "def summation(n , term ):\n",
    "    total ,  k = 0 , 1\n",
    "    while k <= n:\n",
    "        total , k = total + term(k) , k + 1\n",
    "    return total\n",
    "\n",
    "def identity(k):\n",
    "    return k\n",
    "\n",
    "def cube(k):\n",
    "    return k * k * k\n",
    "\n",
    "\n",
    "# anonymous function \n",
    "def sum_naturals(n):\n",
    "    return summation(n,lambda k : k)\n",
    "\n",
    "def sum_cubes(n):\n",
    "    return summation(n,lambda k : k * k * k)\n"
   ]
  }
 ],
 "metadata": {
  "kernelspec": {
   "display_name": "base",
   "language": "python",
   "name": "python3"
  },
  "language_info": {
   "codemirror_mode": {
    "name": "ipython",
    "version": 3
   },
   "file_extension": ".py",
   "mimetype": "text/x-python",
   "name": "python",
   "nbconvert_exporter": "python",
   "pygments_lexer": "ipython3",
   "version": "3.12.3"
  }
 },
 "nbformat": 4,
 "nbformat_minor": 2
}

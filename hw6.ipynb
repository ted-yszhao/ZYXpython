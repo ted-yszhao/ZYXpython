{
 "cells": [
  {
   "cell_type": "code",
   "execution_count": 2,
   "metadata": {},
   "outputs": [
    {
     "name": "stdout",
     "output_type": "stream",
     "text": [
      "One soda costs $10.\n"
     ]
    }
   ],
   "source": [
    "n = 10\n",
    "\n",
    "# 'One soda costs $6.'\n",
    "\n",
    "\n",
    "msg = 'One soda costs $' + str(n) + '.'\n",
    "\n",
    "\n",
    "print(msg)"
   ]
  },
  {
   "cell_type": "markdown",
   "metadata": {},
   "source": [
    "## Formatted String "
   ]
  },
  {
   "cell_type": "code",
   "execution_count": 7,
   "metadata": {},
   "outputs": [
    {
     "name": "stdout",
     "output_type": "stream",
     "text": [
      "One soda costs $10.\n",
      "One soda costs $10.0000. So two would cost $20.0000.\n"
     ]
    }
   ],
   "source": [
    "msg = f'One soda costs ${n}.' # format \n",
    "\n",
    "\n",
    "print(msg)\n",
    "\n",
    "\n",
    "msg = f'One soda costs ${n:.4f}. So two would cost ${2*n:.4f}.'\n",
    "print(msg)"
   ]
  }
 ],
 "metadata": {
  "kernelspec": {
   "display_name": "base",
   "language": "python",
   "name": "python3"
  },
  "language_info": {
   "codemirror_mode": {
    "name": "ipython",
    "version": 3
   },
   "file_extension": ".py",
   "mimetype": "text/x-python",
   "name": "python",
   "nbconvert_exporter": "python",
   "pygments_lexer": "ipython3",
   "version": "3.12.3"
  }
 },
 "nbformat": 4,
 "nbformat_minor": 2
}
